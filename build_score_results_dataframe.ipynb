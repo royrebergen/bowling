{
 "cells": [
  {
   "cell_type": "markdown",
   "metadata": {},
   "source": [
    "Create a results dataframe of a bowling tournament\n",
    "==\n",
    "\n",
    "Here <br>\n",
    "comes <br>\n",
    "a <br />\n",
    "description"
   ]
  },
  {
   "cell_type": "code",
   "execution_count": 111,
   "metadata": {
    "collapsed": true
   },
   "outputs": [],
   "source": [
    "# import libraries\n",
    "import pandas as pd"
   ]
  },
  {
   "cell_type": "markdown",
   "metadata": {},
   "source": [
    "# Input after tournament"
   ]
  },
  {
   "cell_type": "code",
   "execution_count": 109,
   "metadata": {
    "collapsed": true
   },
   "outputs": [],
   "source": [
    "city = 'Eindhoven'\n",
    "date = \"10-08-2018\""
   ]
  },
  {
   "cell_type": "code",
   "execution_count": 50,
   "metadata": {
    "collapsed": true
   },
   "outputs": [],
   "source": [
    "sheet_dict_string = [{'player':'Roy', 'game':1, 'opponent':'Erik', 'score':'8/9-X X 6/4/X 8-X XXX'},\n",
    "                    {'player':'Erik', 'game':1, 'opponent':'Roy', 'score':'8/9-X X X X X 8-X XXX'},\n",
    "                    {'player':'Pim', 'game':1, 'opponent':None, 'score':'8/9-X 9-X 72X 8-X XXX'}]"
   ]
  },
  {
   "cell_type": "markdown",
   "metadata": {},
   "source": [
    "# Calculate the results\n",
    "\n",
    "## For each sheet line\n",
    "\n",
    "TODO\n",
    "\n",
    "* Shorten the score function\n",
    "* Find Turkeys\n",
    "* Find Rotterdammertjes (-/)"
   ]
  },
  {
   "cell_type": "code",
   "execution_count": 97,
   "metadata": {},
   "outputs": [],
   "source": [
    "def valid(game):\n",
    "    \"\"\"Check if a game string is valid.\n",
    "    A valid game string is 21 chars.\n",
    "\n",
    "    Keyword arguments:\n",
    "    game -- string of game scores\n",
    "    \"\"\"\n",
    "    if len(game) == 21:\n",
    "        return True\n",
    "    return False\n",
    "\n",
    "def count_event(game, event):\n",
    "    \"\"\"Count the number of an event thrown in the game\n",
    "    \n",
    "    Keyword arguments:\n",
    "    game -- a valid game string\n",
    "    event -- strike\n",
    "             spare\n",
    "             gutter\n",
    "    \n",
    "    Return:\n",
    "    total events -- a int of the total event count\n",
    "    \"\"\"\n",
    "    return game.count(event)\n",
    "\n",
    "def score(game):\n",
    "    \"\"\"Calculate the scores per frame and in total.\n",
    "    \n",
    "    Foreach frame there are three possible scoring rules:\n",
    "    \n",
    "    \n",
    "    Rule A. The score for a frame is the total pins bowled over during that frame, if the number is less than ten (an open frame, or error or split depending some other rules beyond the scope of this problem).\n",
    "    Rule B. If all ten pins are bowled over on the first delivery (a strike), the score for that frame is 10 + the next two deliveries.\n",
    "    Rule C. If all ten pins are bowled over between the first two deliveries (a spare), the score for that frame is 10 + the next delivery.\n",
    "\n",
    "    \n",
    "    Keyword arguments:\n",
    "    game -- a valid game string\n",
    "    \n",
    "    Return:\n",
    "    results -- a dict with a list of the frames and a list of 10 elements with score tuples\n",
    "    \"\"\"\n",
    "    \n",
    "    # List to return\n",
    "    score = list()\n",
    "    \n",
    "    # Replace the dash for a zero\n",
    "    game = game.replace('-','0')\n",
    "    \n",
    "    # Total score\n",
    "    total = 0\n",
    "    \n",
    "    # Break the game string in frames\n",
    "    n = 2\n",
    "    frames = [game[i:i+n] for i in range(0, len(game)-3, n)]\n",
    "    frames.append(game[-3:])\n",
    "    \n",
    "    # Loop through the frames to apply a score\n",
    "    # TODO: KEY INDEX ENDING IS FRAME 9 & 10\n",
    "    for key, frame in enumerate(frames):\n",
    "        if key < 9:\n",
    "            if frame[0] == 'X':\n",
    "                # Rule B should be applied\n",
    "                frame_score = 10\n",
    "                \n",
    "                if key is not 8:\n",
    "                \n",
    "                    next_deliveries = frames[key+1] + frames[key+2]\n",
    "\n",
    "                    if next_deliveries[0] == 'X':\n",
    "                        frame_score+= 10\n",
    "                        if next_deliveries[2] == 'X':\n",
    "                            frame_score+= 10\n",
    "                        else:\n",
    "                            frame_score+= int(next_deliveries[2])\n",
    "                    else:\n",
    "                        if next_deliveries[1] == '/':\n",
    "                            frame_score+= 10\n",
    "                        else:\n",
    "                            frame_score+= int(next_deliveries[0]) + int(next_deliveries[1])\n",
    "                else:\n",
    "                    next_deliveries = frames[key+1]\n",
    "                    \n",
    "                    if next_deliveries[1] == '/':\n",
    "                        frame_score+=10\n",
    "                    else:\n",
    "                        for n in next_deliveries[:2]:\n",
    "                            if n == 'X':\n",
    "                                frame_score+=10\n",
    "                            else:\n",
    "                                frame_score+=int(n)\n",
    "            elif frame[1] == '/':\n",
    "                # Rule C should be applied\n",
    "                next_delivery = frames[key+1][0]\n",
    "                next_delivery = next_delivery.replace('X','10')\n",
    "                frame_score = 10 + int(next_delivery)\n",
    "            else:\n",
    "                # Rule A should be applied\n",
    "                frame_score = int(frame[0]) + int(frame[1])\n",
    "                \n",
    "        else:\n",
    "            last = list(frames[9])\n",
    "            for k,v in enumerate(last):\n",
    "                if v == ' ':\n",
    "                    last[k] = 0\n",
    "                if v == 'X':\n",
    "                    last[k] = 10\n",
    "                elif v == '/':\n",
    "                    last[k] = 10 - int(last[k-1])\n",
    "            last = [ int(x) for x in last ]\n",
    "            frame_score = sum(last)\n",
    "            \n",
    "        total+= frame_score\n",
    "        score.append((frame_score, total))\n",
    "        \n",
    "    # Undo the dash zero\n",
    "    frames = [frame.replace('0','-') for frame in frames]\n",
    "    return {'frames':frames,'score':score}"
   ]
  },
  {
   "cell_type": "markdown",
   "metadata": {},
   "source": [
    "## For each frame overall\n",
    "* Find Beerframes"
   ]
  },
  {
   "cell_type": "markdown",
   "metadata": {},
   "source": [
    "## For each game\n",
    "* If there is an opponent; who won?"
   ]
  }
 ],
 "metadata": {
  "kernelspec": {
   "display_name": "Python 3",
   "language": "python",
   "name": "python3"
  },
  "language_info": {
   "codemirror_mode": {
    "name": "ipython",
    "version": 3
   },
   "file_extension": ".py",
   "mimetype": "text/x-python",
   "name": "python",
   "nbconvert_exporter": "python",
   "pygments_lexer": "ipython3",
   "version": "3.6.1"
  }
 },
 "nbformat": 4,
 "nbformat_minor": 2
}
