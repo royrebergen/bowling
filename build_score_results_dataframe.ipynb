{
 "cells": [
  {
   "cell_type": "markdown",
   "metadata": {},
   "source": [
    "Create a results dataframe of a bowling tournament\n",
    "=="
   ]
  },
  {
   "cell_type": "code",
   "execution_count": 1,
   "metadata": {},
   "outputs": [],
   "source": [
    "# import libraries\n",
    "import pandas as pd"
   ]
  },
  {
   "cell_type": "markdown",
   "metadata": {},
   "source": [
    "## Input after tournament"
   ]
  },
  {
   "cell_type": "code",
   "execution_count": 2,
   "metadata": {},
   "outputs": [],
   "source": [
    "city = 'Eindhoven'\n",
    "date = \"10-08-2018\" "
   ]
  },
  {
   "cell_type": "code",
   "execution_count": 18,
   "metadata": {},
   "outputs": [],
   "source": [
    "result_sheet = {}\n",
    "result_sheet['Vlad'] = ['7-359/7-9/81-99-9/X7/', '9/7/639/9-9/639-9/8/9', '811/639/8/X X 72519- ', 'X 7/71X 8-8/9/X X 6- ', '817/4/549-36X X X 71 ', '366/X 71X 5163X 179/9']\n",
    "result_sheet['Dymytry'] = ['9/369-X 9/X 728-9/33 ', 'X 9-8/X 9-X X 8-526/5', '9/18X 9-3-339-338-7- ', '61X X 728/X 9/6/7/9/8', '9/9/9/62X 6/16619/8/7', 'X X X 3-9/X X 413663 ']\n",
    "result_sheet['Kaspareski'] = ['347-62X 8/7-537/639/9', 'X X 43427-X 9/-/X 7- ', '9/3/9/X 728-9/7272X1-', '9-637-81718-9/8/7-34 ', '717/9-9-X 128/44448- ', '8-349/7-9-9/X 5-5-X-6']\n",
    "result_sheet['Don'] = ['26236/81-/X X X 9-X18', '729/7-9/X X 81X X 9/9', '9-629/2518X X 9-7181 ', 'X 817-8-81278-9/8-34 ', '9/5361X 7281X 9/9/8/8', '9/X 156-729-62-16/81 ']\n",
    "result_sheet['Brunswick'] = ['7-9-6-X 8/729-X 6/71 ', '7-X 53-6317/549/8-13 ', '439-6-X 3/6331719--7 ', '2-4-7--/6---9/818-72 ', 'X 72X 71X 515-X 8/XX9', '7/6-8-9/5-X 136/8--1 ']"
   ]
  },
  {
   "cell_type": "markdown",
   "metadata": {},
   "source": [
    "## Functions"
   ]
  },
  {
   "cell_type": "code",
   "execution_count": 39,
   "metadata": {},
   "outputs": [],
   "source": [
    "def _valid(game):\n",
    "    \"\"\"Check if a game string is valid.\n",
    "    A valid game string is 21 chars.\n",
    "\n",
    "    Keyword arguments:\n",
    "    game -- string of game scores\n",
    "    \"\"\"\n",
    "    if len(game) == 21:\n",
    "        return True\n",
    "    return False\n",
    "\n",
    "def count_event(game, event):\n",
    "    \"\"\"Count the number of an event thrown in the game\n",
    "    \n",
    "    Keyword arguments:\n",
    "    game -- a valid game string\n",
    "    event -- strike\n",
    "             spare\n",
    "             rotterdam\n",
    "             turkey\n",
    "    \n",
    "    Return:\n",
    "    total events -- a int of the total event count\n",
    "    \"\"\"\n",
    "    if not _valid(game):\n",
    "        raise ValueError('Oops! Not a valid game string: {}'.format(game))\n",
    "        \n",
    "    events = {}\n",
    "    events['strike'] = 'X'\n",
    "    events['spare'] = '/'\n",
    "    events['rotterdam'] = '-/'\n",
    "    events['turkey'] = 'XXX'\n",
    "    \n",
    "    if event == 'turkey':\n",
    "        game = game.replace(' ','')\n",
    "        \n",
    "    return game.count(events[event])\n",
    "\n",
    "def score(game):\n",
    "    \"\"\"Calculate the scores per frame and in total.\n",
    "    \n",
    "    Foreach frame there are three possible scoring rules:\n",
    "    \n",
    "    \n",
    "    Rule A. The score for a frame is the total pins bowled over during that frame, if the number is less than ten (an open frame, or error or split depending some other rules beyond the scope of this problem).\n",
    "    Rule B. If all ten pins are bowled over on the first delivery (a strike), the score for that frame is 10 + the next two deliveries.\n",
    "    Rule C. If all ten pins are bowled over between the first two deliveries (a spare), the score for that frame is 10 + the next delivery.\n",
    "\n",
    "    \n",
    "    Keyword arguments:\n",
    "    game -- a valid game string\n",
    "    \n",
    "    Return:\n",
    "    results -- a dict with a list of the frames and a list of 10 elements with score tuples\n",
    "    \"\"\"\n",
    "    if not _valid(game):\n",
    "        raise ValueError('Oops! Not a valid game string: {}'.format(game))\n",
    "    \n",
    "    global pin_list\n",
    "    \n",
    "    # Break the game string in frames\n",
    "    frames = _break_game_in_frames(game)\n",
    "    \n",
    "    # Create a pin list\n",
    "    pin_list = []\n",
    "    game = game.replace('-','0')\n",
    "    game = game.replace(' ','')\n",
    "    \n",
    "    for k,v in enumerate(game):\n",
    "        if v == 'X':\n",
    "            v = 10\n",
    "        elif v == '/':\n",
    "            v = 10 - int(game[(k-1)])\n",
    "        pin_list.append(int(v))\n",
    "    \n",
    "    score = _calculate_score()\n",
    "    \n",
    "    return {'frames':frames,'score':score}\n",
    "\n",
    "# Build upon the code shown in https://gist.github.com/too/008c8dd69f68428cfdac\n",
    "def _calculate_score():\n",
    "    # List to return\n",
    "    score_list = list()\n",
    " \n",
    "    global pin_list\n",
    "    score = 0\n",
    "    roll_index = 0\n",
    "    for frame in range(10):\n",
    "        if _is_strike(roll_index):\n",
    "            score += 10 + pin_list[roll_index+1] + pin_list[roll_index+2]\n",
    "            score_list.append((pin_list[roll_index+1] + pin_list[roll_index+2], score))\n",
    "            roll_index += 1\n",
    "        elif _is_spare(roll_index):\n",
    "            score += 10 + pin_list[roll_index+2]\n",
    "            score_list.append((10 + pin_list[roll_index+2], score))\n",
    "            roll_index += 2\n",
    "        else:\n",
    "            score += pin_list[roll_index] + pin_list[roll_index+1]\n",
    "            score_list.append((pin_list[roll_index] + pin_list[roll_index+1], score))\n",
    "            roll_index += 2\n",
    "    return score_list\n",
    "\n",
    "def _is_spare(roll_index):\n",
    "    global pin_list\n",
    "    return pin_list[roll_index] + pin_list[roll_index+1] == 10\n",
    "\n",
    "def _is_strike(roll_index):\n",
    "    global pin_list\n",
    "    return pin_list[roll_index] == 10\n",
    "\n",
    "def _break_game_in_frames(game):\n",
    "    n = 2\n",
    "    frames = [game[i:i+n] for i in range(0, len(game)-3, n)]\n",
    "    frames.append(game[-3:])\n",
    "    return frames"
   ]
  },
  {
   "cell_type": "markdown",
   "metadata": {},
   "source": [
    "## Calculate the scores per game"
   ]
  },
  {
   "cell_type": "code",
   "execution_count": 42,
   "metadata": {
    "scrolled": true
   },
   "outputs": [],
   "source": [
    "# calculates scores from the sheet_dict_string\n",
    "scores = list()\n",
    "player_game_result = list()\n",
    "\n",
    "for player in list(result_sheet.keys()):\n",
    "    for key, game in enumerate(result_sheet[player]):\n",
    "    \n",
    "        result = score(game)\n",
    "\n",
    "        player_game_dict = {}\n",
    "        player_game_dict['player'] = player\n",
    "        player_game_dict['game'] = key\n",
    "        player_game_dict['hundred'] = None\n",
    "        \n",
    "        # This could be done in one function call that returns the values\n",
    "        player_game_dict['strikes']= count_event(game, 'strike')\n",
    "        player_game_dict['spares']= count_event(game, 'spare')\n",
    "        player_game_dict['rotterdam']= count_event(game, 'rotterdam')\n",
    "        player_game_dict['turkey'] = count_event(game, 'turkey')\n",
    "        \n",
    "        player_game_dict['city'] = city\n",
    "        player_game_dict['date'] = date\n",
    "        player_game_dict['result'] = result['score'][9][1]\n",
    "\n",
    "        for k,v in enumerate(result['frames']):\n",
    "            my_dict = {}\n",
    "            my_dict['player'] = player\n",
    "            my_dict['game'] = key\n",
    "            my_dict['city'] = city\n",
    "            my_dict['date'] = date\n",
    "            my_dict['frame'] = k+1\n",
    "            my_dict['thrown'] = v\n",
    "            my_dict['points'] = result['score'][k][0]\n",
    "            my_dict['cumulative'] = result['score'][k][1]\n",
    "\n",
    "            if result['score'][k][1] > 99 and player_game_dict['hundred'] is None:\n",
    "                player_game_dict['hundred'] = my_dict['frame'] = k+1\n",
    "\n",
    "            scores.append(my_dict)\n",
    "\n",
    "        player_game_result.append(player_game_dict)\n",
    "        \n",
    "# generate dataframes\n",
    "frames_df = pd.DataFrame(data=scores, columns=scores[0].keys()) \n",
    "player_game_df = pd.DataFrame(data=player_game_result, columns=player_game_result[0].keys())"
   ]
  },
  {
   "cell_type": "code",
   "execution_count": 104,
   "metadata": {},
   "outputs": [],
   "source": [
    "# Position per player\n",
    "gr = player_game_df.sort_values(by=['result', 'strikes'], ascending=False).groupby('game')\n",
    "player_game_df['position'] = gr.cumcount()+1"
   ]
  },
  {
   "cell_type": "code",
   "execution_count": null,
   "metadata": {},
   "outputs": [],
   "source": [
    "# Find Beerframes\n",
    "\n",
    "# grouped_game_0 = frames_df.query(\"game == 0\").groupby(['frame', 'player'])['thrown'].max().reset_index()\n",
    "# matrix_game_0 = grouped_game_0.pivot(index='player', columns='frame', values='thrown')\n",
    "# matrix_game_0\n",
    "\n",
    "# def check_beerframe(col):\n",
    "#     total_strikes = [True for i in col.get_values() if i[0] == \"X\"]\n",
    "#     if len(total_strikes) == len(col.get_values())-1:\n",
    "#         return True\n",
    "#     return False\n",
    "\n",
    "# matrix_game_0.apply(lambda col: check_beerframe(col), axis=0)"
   ]
  },
  {
   "cell_type": "markdown",
   "metadata": {},
   "source": [
    "## Write the dataframes to .csv files for presentation in Power BI"
   ]
  },
  {
   "cell_type": "code",
   "execution_count": 106,
   "metadata": {},
   "outputs": [],
   "source": [
    "frames_df.to_csv('result_data/{}_{}_FRAMES.csv'.format(city, date))\n",
    "player_game_df.to_csv('result_data/{}_{}_GAME.csv'.format(city, date),float_format='%.f')"
   ]
  }
 ],
 "metadata": {
  "kernelspec": {
   "display_name": "Python 3",
   "language": "python",
   "name": "python3"
  },
  "language_info": {
   "codemirror_mode": {
    "name": "ipython",
    "version": 3
   },
   "file_extension": ".py",
   "mimetype": "text/x-python",
   "name": "python",
   "nbconvert_exporter": "python",
   "pygments_lexer": "ipython3",
   "version": "3.6.3"
  }
 },
 "nbformat": 4,
 "nbformat_minor": 2
}
