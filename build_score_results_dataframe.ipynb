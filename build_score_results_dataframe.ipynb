{
 "cells": [
  {
   "cell_type": "code",
   "execution_count": 1,
   "metadata": {},
   "outputs": [],
   "source": [
    "import pandas as pd"
   ]
  },
  {
   "cell_type": "code",
   "execution_count": 2,
   "metadata": {},
   "outputs": [],
   "source": [
    "city = 'Eindhoven'"
   ]
  },
  {
   "cell_type": "code",
   "execution_count": 11,
   "metadata": {
    "collapsed": true
   },
   "outputs": [],
   "source": [
    "sheet_dict = dict()"
   ]
  },
  {
   "cell_type": "code",
   "execution_count": 55,
   "metadata": {},
   "outputs": [],
   "source": [
    "sheet_dict = [{'player': 'Roy', 'city':city, 'game':1, 'frame':1, 'score': tuple('x')},\n",
    "              {'player': 'Roy', 'city':city, 'game':1, 'frame':2, 'score': (0,6)},\n",
    "              {'player': 'Roy', 'city':city, 'game':1, 'frame':3, 'score': (9,'/')},\n",
    "              {'player': 'Roy', 'city':city, 'game':1, 'frame':4, 'score': (4,'/')},\n",
    "              {'player': 'Roy', 'city':city, 'game':1, 'frame':5, 'score': (9,0)},\n",
    "              {'player': 'Roy', 'city':city, 'game':1, 'frame':6, 'score': tuple('x')},\n",
    "              {'player': 'Roy', 'city':city, 'game':1, 'frame':7, 'score': tuple('x')},\n",
    "              {'player': 'Roy', 'city':city, 'game':1, 'frame':8, 'score': (8,1)},\n",
    "              {'player': 'Roy', 'city':city, 'game':1, 'frame':9, 'score': (7,0)},\n",
    "              {'player': 'Roy', 'city':city, 'game':1, 'frame':10, 'score': tuple('x')},\n",
    "              {'player': 'Roy', 'city':city, 'game':1, 'frame':11, 'score': (8,0)},\n",
    "              {'player': 'Roy', 'city':city, 'game':1, 'frame':12, 'score': (1,'/',9)}]"
   ]
  },
  {
   "cell_type": "code",
   "execution_count": 56,
   "metadata": {},
   "outputs": [
    {
     "data": {
      "text/html": [
       "<div>\n",
       "<table border=\"1\" class=\"dataframe\">\n",
       "  <thead>\n",
       "    <tr style=\"text-align: right;\">\n",
       "      <th></th>\n",
       "      <th>city</th>\n",
       "      <th>frame</th>\n",
       "      <th>game</th>\n",
       "      <th>player</th>\n",
       "      <th>score</th>\n",
       "    </tr>\n",
       "  </thead>\n",
       "  <tbody>\n",
       "    <tr>\n",
       "      <th>0</th>\n",
       "      <td>Eindhoven</td>\n",
       "      <td>1</td>\n",
       "      <td>1</td>\n",
       "      <td>Roy</td>\n",
       "      <td>(x,)</td>\n",
       "    </tr>\n",
       "    <tr>\n",
       "      <th>1</th>\n",
       "      <td>Eindhoven</td>\n",
       "      <td>2</td>\n",
       "      <td>1</td>\n",
       "      <td>Roy</td>\n",
       "      <td>(0, 6)</td>\n",
       "    </tr>\n",
       "    <tr>\n",
       "      <th>2</th>\n",
       "      <td>Eindhoven</td>\n",
       "      <td>3</td>\n",
       "      <td>1</td>\n",
       "      <td>Roy</td>\n",
       "      <td>(9, /)</td>\n",
       "    </tr>\n",
       "    <tr>\n",
       "      <th>3</th>\n",
       "      <td>Eindhoven</td>\n",
       "      <td>4</td>\n",
       "      <td>1</td>\n",
       "      <td>Roy</td>\n",
       "      <td>(4, /)</td>\n",
       "    </tr>\n",
       "    <tr>\n",
       "      <th>4</th>\n",
       "      <td>Eindhoven</td>\n",
       "      <td>5</td>\n",
       "      <td>1</td>\n",
       "      <td>Roy</td>\n",
       "      <td>(9, 0)</td>\n",
       "    </tr>\n",
       "    <tr>\n",
       "      <th>5</th>\n",
       "      <td>Eindhoven</td>\n",
       "      <td>6</td>\n",
       "      <td>1</td>\n",
       "      <td>Roy</td>\n",
       "      <td>(x,)</td>\n",
       "    </tr>\n",
       "    <tr>\n",
       "      <th>6</th>\n",
       "      <td>Eindhoven</td>\n",
       "      <td>7</td>\n",
       "      <td>1</td>\n",
       "      <td>Roy</td>\n",
       "      <td>(x,)</td>\n",
       "    </tr>\n",
       "    <tr>\n",
       "      <th>7</th>\n",
       "      <td>Eindhoven</td>\n",
       "      <td>8</td>\n",
       "      <td>1</td>\n",
       "      <td>Roy</td>\n",
       "      <td>(8, 1)</td>\n",
       "    </tr>\n",
       "    <tr>\n",
       "      <th>8</th>\n",
       "      <td>Eindhoven</td>\n",
       "      <td>9</td>\n",
       "      <td>1</td>\n",
       "      <td>Roy</td>\n",
       "      <td>(7, 0)</td>\n",
       "    </tr>\n",
       "    <tr>\n",
       "      <th>9</th>\n",
       "      <td>Eindhoven</td>\n",
       "      <td>10</td>\n",
       "      <td>1</td>\n",
       "      <td>Roy</td>\n",
       "      <td>(x,)</td>\n",
       "    </tr>\n",
       "    <tr>\n",
       "      <th>10</th>\n",
       "      <td>Eindhoven</td>\n",
       "      <td>11</td>\n",
       "      <td>1</td>\n",
       "      <td>Roy</td>\n",
       "      <td>(8, 0)</td>\n",
       "    </tr>\n",
       "    <tr>\n",
       "      <th>11</th>\n",
       "      <td>Eindhoven</td>\n",
       "      <td>12</td>\n",
       "      <td>1</td>\n",
       "      <td>Roy</td>\n",
       "      <td>(1, /, 9)</td>\n",
       "    </tr>\n",
       "  </tbody>\n",
       "</table>\n",
       "</div>"
      ],
      "text/plain": [
       "         city  frame  game player      score\n",
       "0   Eindhoven      1     1    Roy       (x,)\n",
       "1   Eindhoven      2     1    Roy     (0, 6)\n",
       "2   Eindhoven      3     1    Roy     (9, /)\n",
       "3   Eindhoven      4     1    Roy     (4, /)\n",
       "4   Eindhoven      5     1    Roy     (9, 0)\n",
       "5   Eindhoven      6     1    Roy       (x,)\n",
       "6   Eindhoven      7     1    Roy       (x,)\n",
       "7   Eindhoven      8     1    Roy     (8, 1)\n",
       "8   Eindhoven      9     1    Roy     (7, 0)\n",
       "9   Eindhoven     10     1    Roy       (x,)\n",
       "10  Eindhoven     11     1    Roy     (8, 0)\n",
       "11  Eindhoven     12     1    Roy  (1, /, 9)"
      ]
     },
     "execution_count": 56,
     "metadata": {},
     "output_type": "execute_result"
    }
   ],
   "source": [
    "df = pd.DataFrame.from_dict(sheet_dict)\n",
    "df"
   ]
  },
  {
   "cell_type": "code",
   "execution_count": 3,
   "metadata": {},
   "outputs": [],
   "source": [
    "sheet_dict_string = [{'player':'Roy', 'city':city, 'game':1, 'opponent':'Erik', 'score':'8/9-X X 6/4/X 8-X XXX'},\n",
    "                    {'player':'Erik', 'city':city, 'game':1, 'opponent':'Roy', 'score':'8/9-X X X X X 8-X XXX'}]\n",
    "df_string = pd.DataFrame.from_dict(sheet_dict_string)"
   ]
  },
  {
   "cell_type": "markdown",
   "metadata": {},
   "source": [
    "# Calculate the result\n",
    "\n",
    "TODO\n",
    "\n",
    "* Find Turkeys\n",
    "* Find Beerframes\n",
    "* Calculate total strikes\n",
    "* Calculate total spares\n",
    "* If there is an opponent; who won?"
   ]
  },
  {
   "cell_type": "code",
   "execution_count": 2,
   "metadata": {},
   "outputs": [],
   "source": [
    "def valid(game):\n",
    "    \"\"\"Check if a game string is valid.\n",
    "    A valid game string is 21 chars.\n",
    "\n",
    "    Keyword arguments:\n",
    "    game -- string of game scores\n",
    "    \"\"\"\n",
    "    if len(game) == 21:\n",
    "        return True\n",
    "    return False\n",
    "\n",
    "def score(game):\n",
    "    \"\"\"Calculate the scores per frame and in total.\n",
    "    \n",
    "    Foreach frame there are three possible scoring rules:\n",
    "    \n",
    "    \n",
    "    Rule A. The score for a frame is the total pins bowled over during that frame, if the number is less than ten (an open frame, or error or split depending some other rules beyond the scope of this problem).\n",
    "    Rule B. If all ten pins are bowled over on the first delivery (a strike), the score for that frame is 10 + the next two deliveries.\n",
    "    Rule C. If all ten pins are bowled over between the first two deliveries (a spare), the score for that frame is 10 + the next delivery.\n",
    "\n",
    "    \n",
    "    Keyword arguments:\n",
    "    game -- a valid game string\n",
    "    \n",
    "    Return:\n",
    "    results -- a dict with a list of the frames and a list of 10 elements with score tuples\n",
    "    \"\"\"\n",
    "    \n",
    "    # List to return\n",
    "    score = list()\n",
    "    \n",
    "    # Replace the dash for a zero\n",
    "    game = game.replace('-','0')\n",
    "    \n",
    "    # Total score\n",
    "    total = 0\n",
    "    \n",
    "    # Break the game string in frames\n",
    "    n = 2\n",
    "    frames = [game[i:i+n] for i in range(0, len(game)-3, n)]\n",
    "    frames.append(game[-3:])\n",
    "    \n",
    "    # Loop through the frames to apply a score\n",
    "    # TODO: KEY INDEX ENDING IS FRAME 9 & 10\n",
    "    for key, frame in enumerate(frames):\n",
    "        if key < 8:\n",
    "        \n",
    "            if frame[0] == 'X':\n",
    "                # Rule B should be applied\n",
    "                frame_score = 10\n",
    "\n",
    "                next_delivery = frames[key+1][0]\n",
    "                if next_delivery == 'X':\n",
    "                    frame_score+= 10\n",
    "                    second_delivery = frames[key+2]\n",
    "                    if second_delivery[0] == 'X':\n",
    "                        frame_score+= 10\n",
    "                    else:\n",
    "                        frame_score+= int(second_delivery[0])\n",
    "                else:\n",
    "                    # No strike, but maybe a spare?\n",
    "                    frame_score+= int(frames[key+1][0])\n",
    "                    if frames[key+1][1] == '/':\n",
    "                        frame_score+= 10 - int(frames[key+1][0])\n",
    "                    else:\n",
    "                        frame_score+= int(frames[key+1][1])  \n",
    "            elif frame[1] == '/':\n",
    "                # Rule C should be applied\n",
    "                next_delivery = frames[key+1][0]\n",
    "                next_delivery = next_delivery.replace('X','10')\n",
    "                frame_score = 10 + int(next_delivery)\n",
    "            else:\n",
    "                # Rule A should be applied\n",
    "                frame_score = int(frame[0]) + int(frame[1])\n",
    "                \n",
    "            total+= frame_score\n",
    "            score.append((frame_score, total))\n",
    "            \n",
    "    print(score)\n",
    "    \n",
    "    # Undo the dash zero\n",
    "    frames = [frame.replace('0','-') for frame in frames]\n",
    "    \n",
    "    \n",
    "    return {'frames':frames,'score':score}"
   ]
  },
  {
   "cell_type": "code",
   "execution_count": 5,
   "metadata": {},
   "outputs": [],
   "source": [
    "players = df_string.player.unique()\n",
    "number_of_games = df_string.game.max()"
   ]
  },
  {
   "cell_type": "code",
   "execution_count": 6,
   "metadata": {
    "scrolled": true
   },
   "outputs": [
    {
     "data": {
      "text/plain": [
       "1"
      ]
     },
     "execution_count": 6,
     "metadata": {},
     "output_type": "execute_result"
    }
   ],
   "source": [
    "number_of_games"
   ]
  },
  {
   "cell_type": "code",
   "execution_count": 7,
   "metadata": {},
   "outputs": [
    {
     "data": {
      "text/plain": [
       "2"
      ]
     },
     "execution_count": 7,
     "metadata": {},
     "output_type": "execute_result"
    }
   ],
   "source": [
    "len(players)"
   ]
  },
  {
   "cell_type": "code",
   "execution_count": 18,
   "metadata": {
    "scrolled": true
   },
   "outputs": [
    {
     "name": "stdout",
     "output_type": "stream",
     "text": [
      "[(19, 19), (0, 19), (30, 49), (30, 79), (30, 109), (28, 137), (18, 155), (0, 155)]\n"
     ]
    }
   ],
   "source": [
    "result = score(df_string.loc[1][4])"
   ]
  },
  {
   "cell_type": "code",
   "execution_count": 4,
   "metadata": {},
   "outputs": [],
   "source": [
    "test_score = \"1/X 7/7-8/8/6/9/5/8- \""
   ]
  },
  {
   "cell_type": "code",
   "execution_count": 6,
   "metadata": {},
   "outputs": [
    {
     "name": "stdout",
     "output_type": "stream",
     "text": [
      "[(20, 20), (20, 40), (17, 57), (7, 64), (18, 82), (16, 98), (19, 117), (15, 132)]\n"
     ]
    }
   ],
   "source": [
    "result = score(test_score)"
   ]
  },
  {
   "cell_type": "code",
   "execution_count": 19,
   "metadata": {},
   "outputs": [
    {
     "data": {
      "text/plain": [
       "155"
      ]
     },
     "execution_count": 19,
     "metadata": {},
     "output_type": "execute_result"
    }
   ],
   "source": [
    "total_score = result['score'][-1:][0][1]\n",
    "total_score"
   ]
  },
  {
   "cell_type": "code",
   "execution_count": 20,
   "metadata": {},
   "outputs": [
    {
     "data": {
      "text/plain": [
       "{'frames': ['8/', '9-', 'X ', 'X ', 'X ', 'X ', 'X ', '8-', 'X ', 'XXX'],\n",
       " 'score': [(19, 19),\n",
       "  (0, 19),\n",
       "  (30, 49),\n",
       "  (30, 79),\n",
       "  (30, 109),\n",
       "  (28, 137),\n",
       "  (18, 155),\n",
       "  (0, 155)]}"
      ]
     },
     "execution_count": 20,
     "metadata": {},
     "output_type": "execute_result"
    }
   ],
   "source": [
    "result"
   ]
  }
 ],
 "metadata": {
  "kernelspec": {
   "display_name": "Python 3",
   "language": "python",
   "name": "python3"
  },
  "language_info": {
   "codemirror_mode": {
    "name": "ipython",
    "version": 3
   },
   "file_extension": ".py",
   "mimetype": "text/x-python",
   "name": "python",
   "nbconvert_exporter": "python",
   "pygments_lexer": "ipython3",
   "version": "3.6.3"
  }
 },
 "nbformat": 4,
 "nbformat_minor": 2
}
