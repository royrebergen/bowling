{
 "cells": [
  {
   "cell_type": "code",
   "execution_count": 6,
   "metadata": {},
   "outputs": [],
   "source": [
    "import glob\n",
    "import os\n",
    "import pandas as pd"
   ]
  },
  {
   "cell_type": "code",
   "execution_count": 7,
   "metadata": {
    "scrolled": true
   },
   "outputs": [],
   "source": [
    "frames_df = pd.concat(map(lambda file: pd.read_csv(file, index_col=0), glob.glob(os.path.join('', \"result_data/*_FRAMES.csv\"))))\n",
    "game_df = pd.concat(map(lambda file: pd.read_csv(file, index_col=0), glob.glob(os.path.join('', \"result_data/*_GAME.csv\"))))"
   ]
  },
  {
   "cell_type": "code",
   "execution_count": 8,
   "metadata": {},
   "outputs": [],
   "source": [
    "frames_df.to_csv('result_data/combined/FRAMES.csv')"
   ]
  },
  {
   "cell_type": "code",
   "execution_count": 9,
   "metadata": {},
   "outputs": [],
   "source": [
    "game_df.to_csv('result_data/combined/GAME.csv')"
   ]
  }
 ],
 "metadata": {
  "kernelspec": {
   "display_name": "Python 3",
   "language": "python",
   "name": "python3"
  }
 },
 "nbformat": 4,
 "nbformat_minor": 2
}
